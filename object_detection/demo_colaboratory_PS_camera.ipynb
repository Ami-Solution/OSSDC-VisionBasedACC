{
  "nbformat": 4,
  "nbformat_minor": 0,
  "metadata": {
    "colab": {
      "name": "demo_colaboratory_PS_camera.ipynb",
      "version": "0.3.2",
      "views": {},
      "default_view": {},
      "provenance": [
        {
          "file_id": "1B3ugwX_LrNukEaf8yZHvXYotSjjSwhKD",
          "timestamp": 1517258354611
        },
        {
          "file_id": "10hu0d9Ind2TwZXxDoeh7Yc4Qi1WZ2I24",
          "timestamp": 1516545640031
        }
      ],
      "collapsed_sections": []
    },
    "kernelspec": {
      "display_name": "Python 3",
      "language": "python",
      "name": "python3"
    },
    "accelerator": "GPU"
  },
  "cells": [
    {
      "metadata": {
        "id": "rEBnky83Robi",
        "colab_type": "text"
      },
      "cell_type": "markdown",
      "source": [
        "Use this IPython notebook on [Google Colaboratory](https://colab.research.google.com) to reproduce the video here:\n",
        "\n",
        "> SSD Tensorflow based car detection and tracking demo for OSSDC.org VisionBasedACC PS3/PS4 simulator\n",
        "\n",
        "> https://youtu.be/dqnjHqwP68Y\n",
        "\n",
        "Code here:\n",
        "\n",
        "> https://github.com/OSSDC/OSSDC-VisionBasedACC\n",
        "\n",
        "Make sure you enable GPU in Colaboratory using menu path Runtime -> Change runtime type\n",
        "\n",
        "Join our efforts in [Open Source Self Driving Car Initiative](http://OSSDC.org)!\n",
        "\n"
      ]
    },
    {
      "metadata": {
        "id": "HPmOjGVBquUW",
        "colab_type": "code",
        "colab": {
          "autoexec": {
            "startup": false,
            "wait_interval": 0
          }
        }
      },
      "cell_type": "code",
      "source": [
        "#install opencv and other packages\n",
        "!apt-get -qq install -y libsm6 libxext6\n",
        "!pip install -q -U opencv-python\n",
        "!pip install -q -U pafy \n",
        "!pip install -q -U imtools\n",
        "!pip install -q -U youtube-dl\n",
        "!pip install -q -U imutils"
      ],
      "execution_count": 0,
      "outputs": []
    },
    {
      "metadata": {
        "id": "19JysE-C3Ovw",
        "colab_type": "code",
        "colab": {
          "autoexec": {
            "startup": false,
            "wait_interval": 0
          }
        }
      },
      "cell_type": "code",
      "source": [
        "import requests\n",
        "# fetch source code\n",
        "def download_file_from_google_drive(id, destination):\n",
        "    def get_confirm_token(response):\n",
        "        for key, value in response.cookies.items():\n",
        "            if key.startswith('download_warning'):\n",
        "                return value\n",
        "        return None\n",
        "    def save_response_content(response, destination):\n",
        "        CHUNK_SIZE = 32768\n",
        "        with open(destination, \"wb\") as f:\n",
        "            for chunk in response.iter_content(CHUNK_SIZE):\n",
        "                if chunk: # filter out keep-alive new chunks\n",
        "                    f.write(chunk)\n",
        "    URL = \"https://docs.google.com/uc?export=download\"\n",
        "    session = requests.Session()\n",
        "    response = session.get(URL, params = { 'id' : id }, stream = True)\n",
        "    token = get_confirm_token(response)\n",
        "    if token:\n",
        "        params = { 'id' : id, 'confirm' : token }\n",
        "        response = session.get(URL, params = params, stream = True)\n",
        "\n",
        "    save_response_content(response, destination)    \n",
        "\n",
        "# https://drive.google.com/open?id=16l-xgwXeElhoBRvKAw6-1ZA_kRvxHp2Y\n",
        "file_id = \"16l-xgwXeElhoBRvKAw6-1ZA_kRvxHp2Y\"\n",
        "destination = \"./demo.zip\"    \n",
        "download_file_from_google_drive(file_id, destination)"
      ],
      "execution_count": 0,
      "outputs": []
    },
    {
      "metadata": {
        "id": "GSglRlLC5zma",
        "colab_type": "code",
        "colab": {
          "autoexec": {
            "startup": false,
            "wait_interval": 0
          },
          "output_extras": [
            {
              "item_id": 2
            }
          ],
          "base_uri": "https://localhost:8080/",
          "height": 106
        },
        "outputId": "81f5861f-5ec5-4140-f08d-7f590fcb8935",
        "executionInfo": {
          "status": "ok",
          "timestamp": 1518409294915,
          "user_tz": 300,
          "elapsed": 4719,
          "user": {
            "displayName": "Phillip Pirrip",
            "photoUrl": "https://lh3.googleusercontent.com/a/default-user=s128",
            "userId": "116127546435445851967"
          }
        }
      },
      "cell_type": "code",
      "source": [
        "# put the program in the right place\n",
        "!unzip -qq demo.zip\n",
        "!rm demo.zip\n",
        "!rm -rf SfMLearner __pycache__ checkpoints ssd\n",
        "!mv demo/* ./\n",
        "!rm -rf demo\n",
        "!ls\n",
        "import sys\n",
        "sys.path.append('./')\n",
        "sys.path.append('./ssd')\n",
        "sys.path.append('./SfMlearner')\n",
        "print(sys.path)"
      ],
      "execution_count": 3,
      "outputs": [
        {
          "output_type": "stream",
          "text": [
            "checkpoints\tdemo_main.py  sfm\t  together.py\r\n",
            "datalab\t\tmodels\t      SfMLearner  video-test.mp4\r\n",
            "demo_common.py\t__pycache__   ssd\r\n",
            "['', '/env/python', '/usr/lib/python36.zip', '/usr/lib/python3.6', '/usr/lib/python3.6/lib-dynload', '/usr/local/lib/python3.6/dist-packages', '/usr/lib/python3/dist-packages', '/usr/local/lib/python3.6/dist-packages/IPython/extensions', '/content/.ipython', './', './ssd', './SfMlearner']\n"
          ],
          "name": "stdout"
        }
      ]
    },
    {
      "metadata": {
        "id": "9Xje1MmC7Qbb",
        "colab_type": "code",
        "colab": {
          "autoexec": {
            "startup": false,
            "wait_interval": 0
          },
          "output_extras": [
            {
              "item_id": 1
            }
          ],
          "base_uri": "https://localhost:8080/",
          "height": 34
        },
        "outputId": "87378d6c-4389-4398-c6ef-bcfc9347866c",
        "executionInfo": {
          "status": "ok",
          "timestamp": 1518409295865,
          "user_tz": 300,
          "elapsed": 896,
          "user": {
            "displayName": "Phillip Pirrip",
            "photoUrl": "https://lh3.googleusercontent.com/a/default-user=s128",
            "userId": "116127546435445851967"
          }
        }
      },
      "cell_type": "code",
      "source": [
        "import os\n",
        "import time\n",
        "import subprocess\n",
        "import platform\n",
        "import socket\n",
        "\n",
        "import math\n",
        "import numpy as np\n",
        "import tensorflow as tf\n",
        "from tensorflow.python.client import device_lib\n",
        "\n",
        "import cv2\n",
        "\n",
        "from imutils.video import WebcamVideoStream\n",
        "%pylab inline \n",
        "from IPython.display import clear_output"
      ],
      "execution_count": 4,
      "outputs": [
        {
          "output_type": "stream",
          "text": [
            "Populating the interactive namespace from numpy and matplotlib\n"
          ],
          "name": "stdout"
        }
      ]
    },
    {
      "metadata": {
        "id": "RtT4sQ4H6PLa",
        "colab_type": "code",
        "colab": {
          "autoexec": {
            "startup": false,
            "wait_interval": 0
          }
        }
      },
      "cell_type": "code",
      "source": [
        "import demo_common as dc\n",
        "\n",
        "# SSD specific\n",
        "from ssd.nets import ssd_vgg_300, ssd_common, np_methods\n",
        "from ssd.preprocessing import ssd_vgg_preprocessing\n",
        "import ssd.visualization as visualization"
      ],
      "execution_count": 0,
      "outputs": []
    },
    {
      "metadata": {
        "id": "QiFxEZnXwtsR",
        "colab_type": "code",
        "colab": {
          "autoexec": {
            "startup": false,
            "wait_interval": 0
          },
          "output_extras": [
            {
              "item_id": 1
            }
          ],
          "base_uri": "https://localhost:8080/",
          "height": 69
        },
        "outputId": "021c8dce-350c-47e7-b3e8-31496d82743d",
        "executionInfo": {
          "status": "ok",
          "timestamp": 1518409297647,
          "user_tz": 300,
          "elapsed": 244,
          "user": {
            "displayName": "Phillip Pirrip",
            "photoUrl": "https://lh3.googleusercontent.com/a/default-user=s128",
            "userId": "116127546435445851967"
          }
        }
      },
      "cell_type": "code",
      "source": [
        "#Print out some system info\n",
        "print('Python version: {}'.format(platform.python_version()))\n",
        "print('Tensorflow version: {}'.format(tf.__version__))\n",
        "platform.platform() # get OS info\n",
        "# get CPU/GPU info\n",
        "local_device_protos = device_lib.list_local_devices()\n",
        "print([x.name for x in local_device_protos if x.device_type == 'GPU' or 'CPU'])"
      ],
      "execution_count": 6,
      "outputs": [
        {
          "output_type": "stream",
          "text": [
            "Python version: 3.6.3\n",
            "Tensorflow version: 1.4.1\n",
            "['/device:CPU:0', '/device:GPU:0']\n"
          ],
          "name": "stdout"
        }
      ]
    },
    {
      "metadata": {
        "id": "T5Qdi64Hqegg",
        "colab_type": "code",
        "colab": {
          "autoexec": {
            "startup": false,
            "wait_interval": 0
          }
        }
      },
      "cell_type": "code",
      "source": [
        "#  Configuration / Global variables\n",
        "slim = tf.contrib.slim\n",
        "precision = 10 # where is this one being use?\n",
        "\n",
        "USE_CPU_ONLY = False # comment this out if GPU is available\n",
        "\n",
        "webcam=False # True for using webcam, False for using a mp4\n",
        "\n",
        "skip=0\n",
        "\n",
        "#SKIP_EVERY=0\n",
        "SKIP_EVERY=150  #pick a frame every 5 seconds\n",
        "\n",
        "count=1000 #look only at first 1000 frames\n",
        "every=SKIP_EVERY\n",
        "\n",
        "showImage=True # True for showing image in the notebook\n",
        "\n",
        "streamImage= False #True #True for streaming output to your PC, with ffplay as receiver\n",
        "IP_ADDR = '127.0.0.1' # client ffplay client IP address\n",
        "\n",
        "processImage=True\n",
        "\n",
        "zoomImage=0\n",
        "\n",
        "record = False #True to get a video with detections marked in place\n",
        "\n",
        "procWidth = 640  # processing width (x resolution) of frame\n",
        "procHeight = 480   # processing width (x resolution) of frame\n",
        "\n",
        "# Here is a dataset collected from two (not perfectly aligned) PS3 Eye cameras. This is from the left camera.\n",
        "url = 'https://youtu.be/Eb6_dUvButA'\n",
        "\n",
        "if USE_CPU_ONLY:\n",
        "    isess = tf.Session(config=tf.ConfigProto(device_count={'GPU': 0}))\n",
        "else:\n",
        "    # TensorFlow session: grow memory when needed. TF, DO NOT USE ALL MY GPU MEMORY!!!\n",
        "    gpu_options = tf.GPUOptions(allow_growth=True)\n",
        "    config = tf.ConfigProto(log_device_placement=False, gpu_options=gpu_options)\n",
        "    isess = tf.InteractiveSession(config=config)\n"
      ],
      "execution_count": 0,
      "outputs": []
    },
    {
      "metadata": {
        "id": "cQhOmDAnqehN",
        "colab_type": "text"
      },
      "cell_type": "markdown",
      "source": [
        "## SSD 300 Model\n",
        "\n",
        "The SSD 300 network takes 300x300 image inputs. In order to feed any image, the latter is resize to this input shape (i.e.`Resize.WARP_RESIZE`). Note that even though it may change the ratio width / height, the SSD model performs well on resized images (and it is the default behaviour in the original Caffe implementation).\n",
        "\n",
        "SSD anchors correspond to the default bounding boxes encoded in the network. The SSD net output provides offset on the coordinates and dimensions of these anchors."
      ]
    },
    {
      "metadata": {
        "id": "EeiwCpxbqehO",
        "colab_type": "code",
        "colab": {
          "autoexec": {
            "startup": false,
            "wait_interval": 0
          },
          "output_extras": [
            {
              "item_id": 1
            }
          ],
          "base_uri": "https://localhost:8080/",
          "height": 34
        },
        "outputId": "66d86dce-2c5b-4e22-aa48-1d4992e74f0e",
        "executionInfo": {
          "status": "ok",
          "timestamp": 1518409299843,
          "user_tz": 300,
          "elapsed": 1479,
          "user": {
            "displayName": "Phillip Pirrip",
            "photoUrl": "https://lh3.googleusercontent.com/a/default-user=s128",
            "userId": "116127546435445851967"
          }
        }
      },
      "cell_type": "code",
      "source": [
        "# Input placeholder.\n",
        "net_shape = (300, 300)\n",
        "\n",
        "if USE_CPU_ONLY:\n",
        "    data_format = 'NHWC'    \n",
        "else:\n",
        "    data_format = 'NCHW'\n",
        "    \n",
        "img_input = tf.placeholder(tf.uint8, shape=(None, None, 3))\n",
        "# Evaluation pre-processing: resize to SSD net shape.\n",
        "image_pre, labels_pre, bboxes_pre, bbox_img = ssd_vgg_preprocessing.preprocess_for_eval(\n",
        "    img_input, None, None, net_shape, data_format, resize=ssd_vgg_preprocessing.Resize.WARP_RESIZE)\n",
        "image_4d = tf.expand_dims(image_pre, 0)\n",
        "\n",
        "# Define the SSD model.\n",
        "reuse = True if 'ssd_net' in locals() else None\n",
        "ssd_net = ssd_vgg_300.SSDNet()\n",
        "with slim.arg_scope(ssd_net.arg_scope(data_format=data_format)):\n",
        "    predictions, localisations, _, _ = ssd_net.net(image_4d, is_training=False, reuse=reuse)\n",
        "\n",
        "# Restore SSD model.\n",
        "ckpt_filename = './checkpoints/ssd_300_vgg.ckpt'\n",
        "isess.run(tf.global_variables_initializer())\n",
        "saver = tf.train.Saver()\n",
        "saver.restore(isess, ckpt_filename)\n",
        "\n",
        "# SSD default anchor boxes.\n",
        "ssd_anchors = ssd_net.anchors(net_shape)"
      ],
      "execution_count": 8,
      "outputs": [
        {
          "output_type": "stream",
          "text": [
            "INFO:tensorflow:Restoring parameters from ./checkpoints/ssd_300_vgg.ckpt\n"
          ],
          "name": "stdout"
        }
      ]
    },
    {
      "metadata": {
        "id": "x7x9kKOtqehX",
        "colab_type": "text"
      },
      "cell_type": "markdown",
      "source": [
        "## Post-processing pipeline\n",
        "\n",
        "The SSD outputs need to be post-processed to provide proper detections. Namely, we follow these common steps:\n",
        "\n",
        "* Select boxes above a classification threshold;\n",
        "* Clip boxes to the image shape;\n",
        "* Apply the Non-Maximum-Selection algorithm: fuse together boxes whose Jaccard score > threshold;\n",
        "* If necessary, resize bounding boxes to original image shape."
      ]
    },
    {
      "metadata": {
        "id": "YNOsY-m5qeha",
        "colab_type": "code",
        "colab": {
          "autoexec": {
            "startup": false,
            "wait_interval": 0
          }
        }
      },
      "cell_type": "code",
      "source": [
        "# Main image processing routine.\n",
        "def ssd_process_image(img, select_threshold=0.5, nms_threshold=.45, net_shape=(300, 300)):\n",
        "    # Run SSD network.\n",
        "    rimg, rpredictions, rlocalisations, rbbox_img = isess.run([image_4d, predictions, localisations, bbox_img],\n",
        "                                                              feed_dict={img_input: img})\n",
        "    \n",
        "    # Get classes and bboxes from the net outputs.\n",
        "    rclasses, rscores, rbboxes = np_methods.ssd_bboxes_select(\n",
        "            rpredictions, rlocalisations, ssd_anchors,\n",
        "            select_threshold=select_threshold, img_shape=net_shape, num_classes=21, decode=True)\n",
        "    \n",
        "    rbboxes = np_methods.bboxes_clip(rbbox_img, rbboxes)\n",
        "    rclasses, rscores, rbboxes = np_methods.bboxes_sort(rclasses, rscores, rbboxes, top_k=400)\n",
        "    rclasses, rscores, rbboxes = np_methods.bboxes_nms(rclasses, rscores, rbboxes, nms_threshold=nms_threshold)\n",
        "    # Resize bboxes to original image shape. Note: useless for Resize.WARP!\n",
        "    rbboxes = np_methods.bboxes_resize(rbbox_img, rbboxes)\n",
        "    return rclasses, rscores, rbboxes"
      ],
      "execution_count": 0,
      "outputs": []
    },
    {
      "metadata": {
        "id": "Y49h2Eyx65En",
        "colab_type": "code",
        "colab": {
          "autoexec": {
            "startup": false,
            "wait_interval": 0
          }
        }
      },
      "cell_type": "code",
      "source": [
        "# set up SfMlearner\n",
        "#!ls SfMLearner/models\n",
        "#!cd SfMLearner\n",
        "#!bash ./models/download_depth_model.sh\n",
        "#!cd .."
      ],
      "execution_count": 0,
      "outputs": []
    },
    {
      "metadata": {
        "id": "fmporqDF7Kda",
        "colab_type": "code",
        "colab": {
          "autoexec": {
            "startup": false,
            "wait_interval": 0
          }
        }
      },
      "cell_type": "code",
      "source": [
        "start_time = time.time()\n",
        "\n",
        "!rm video-test.mp4\n",
        "\n",
        "#if \"youtube.\" in url: \n",
        "#if True: \n",
        "#    videoUrl = dc.getVideoURL(url)\n",
        "#    !wget -q -O video-test.mp4 '$videoUrl' #streaming directly doesn't work in Colaboratory yet, need to save the file on disk first\n",
        "#else:\n",
        "#    videoUrl = url\n",
        "\n",
        "# grab the mp4 file also (for now)\n",
        "# https://drive.google.com/open?id=102PePceOqmSRZNqaeJmFHGjAsOILK9lI\n",
        "file_id = \"102PePceOqmSRZNqaeJmFHGjAsOILK9lI\"\n",
        "destination = \"./video-test.mp4\"    \n",
        "download_file_from_google_drive(file_id, destination)\n",
        "\n",
        "#print(\"videoUrl =\",videoUrl)\n",
        "videoUrl='video-test.mp4'"
      ],
      "execution_count": 0,
      "outputs": []
    },
    {
      "metadata": {
        "id": "ZTl8WQS3qehf",
        "colab_type": "code",
        "colab": {
          "autoexec": {
            "startup": false,
            "wait_interval": 0
          },
          "output_extras": [
            {
              "item_id": 1
            }
          ],
          "base_uri": "https://localhost:8080/",
          "height": 2543
        },
        "outputId": "c00abb33-b097-4e7b-9559-e45571ec4aa8",
        "executionInfo": {
          "status": "error",
          "timestamp": 1518409435813,
          "user_tz": 300,
          "elapsed": 126,
          "user": {
            "displayName": "Phillip Pirrip",
            "photoUrl": "https://lh3.googleusercontent.com/a/default-user=s128",
            "userId": "116127546435445851967"
          }
        }
      },
      "cell_type": "code",
      "source": [
        "if webcam:\n",
        "    cap = WebcamVideoStream(videoUrl).start()\n",
        "else:\n",
        "    cap = cv2.VideoCapture(videoUrl)\n",
        "\n",
        "initial_time = dc.getCurrentClock()\n",
        "flag=True\n",
        "\n",
        "frameCnt=0\n",
        "prevFrameCnt=0\n",
        "prevTime=dc.getCurrentClock()\n",
        "\n",
        "rclasses = []\n",
        "rscores = []\n",
        "rbboxes = []\n",
        "\n",
        "if streamImage:\n",
        "  #on server run this command:\n",
        "  #ffplay -f mjpeg tcp://0.0.0.0:45654?listen\n",
        "  clientsocket=socket.socket(socket.AF_INET,socket.SOCK_STREAM)\n",
        "  clientsocket.connect(('put_your_target_ip_here',45654)) #the target ip is where the ffplay is listening\n",
        "\n",
        "out = None\n",
        "if record:\n",
        "    fourcc = cv2.VideoWriter_fourcc(*'MPEG')\n",
        "    timestr = time.strftime(\"%Y%m%d-%H%M%S\")\n",
        "    out = cv2.VideoWriter('output-'+timestr+'.mp4',fourcc, 30.0, (int(procWidth),int(procHeight)))\n",
        "frame = cap.read()\n",
        "\n",
        "fpsValue=0\n",
        "tracks=[]\n",
        "\n",
        "print(\"Start procesing!\",frame)\n",
        "try:\n",
        "    while True:\n",
        "        if webcam or cap.grab():\n",
        "            if webcam:\n",
        "                frame = cap.read()\n",
        "            else:\n",
        "                flag, frame = cap.retrieve()    \n",
        "            if not flag:\n",
        "                continue\n",
        "            else:\n",
        "                #print(\"frameCnt:\",frameCnt)\n",
        "                frame = cv2.resize(frame,(int(procWidth),int(procHeight)))\n",
        "                frameCnt=frameCnt+1\n",
        "                nowMicro = dc.getCurrentClock()\n",
        "                delta = (nowMicro-prevTime).total_seconds()\n",
        "                #print(\"%f \" % (delta))\n",
        "                if delta>=1.0:\n",
        "                    fpsValue = ((frameCnt-prevFrameCnt)/delta) \n",
        "                    #print(\"FPS = %0.4f\" % ((frameCnt-prevFrameCnt)/delta))\n",
        "                    prevTime = nowMicro\n",
        "                    prevFrameCnt=frameCnt\n",
        "\n",
        "                if skip>0:\n",
        "                    skip=skip-1\n",
        "                    continue\n",
        "\n",
        "                if every>0:\n",
        "                    every=every-1\n",
        "                    continue\n",
        "                every=SKIP_EVERY\n",
        "\n",
        "                count=count-1\n",
        "                if count==0:\n",
        "                    break\n",
        "\n",
        "                img = frame\n",
        "                if processImage:    \n",
        "                    if zoomImage>0:\n",
        "                        #crop center of image, crop width is output_side_length\n",
        "                        output_side_length = int(procWidth/zoomImage)\n",
        "                        height, width, depth = frame.shape\n",
        "                        #print (height, width, depth)\n",
        "                        height_offset = int((height - output_side_length) / 2)\n",
        "                        width_offset = int((width - output_side_length) / 2)\n",
        "                        #print (height, width, depth, height_offset,width_offset,output_side_length)\n",
        "                        img = frame[height_offset:height_offset + output_side_length,width_offset:width_offset + output_side_length]\n",
        "\n",
        "                    img = cv2.cvtColor(img, cv2.COLOR_BGR2RGB)\n",
        "                    start_time = dc.getCurrentClock()\n",
        "                    rclasses, rscores, rbboxes =  ssd_process_image(img)\n",
        "                    if len(rclasses)>0:\n",
        "                        nowMicro = dc.getCurrentClock()\n",
        "                        print(\"# %s - %s - %0.4f seconds ---\" % (frameCnt,rclasses.astype('|S3'), (nowMicro - start_time).total_seconds()))\n",
        "                        dc.draw_str(img, (20, 20), \"FPS = %3.2f, %0.4f sec, Track points = %5d, Frame = %6d\" % (fpsValue,(nowMicro - start_time).total_seconds(),len(tracks), frameCnt))\n",
        "                        start_time = nowMicro\n",
        "                    \n",
        "                    #img = cv2.cvtColor(img, cv2.COLOR_RGB2BGR)\n",
        "                    visualization.bboxes_draw_on_img(img, rclasses, rscores, rbboxes, visualization.colors_plasma)\n",
        "                if showImage:\n",
        "                    imshow(img)\n",
        "                    show()\n",
        "                    if count % 3: #increase or decrease this to clear after more or less frames\n",
        "                      # Display the frame until new frame is available\n",
        "                      clear_output(wait=True)\n",
        "                if streamImage:\n",
        "                    if processImage:\n",
        "                        img = cv2.cvtColor(img, cv2.COLOR_RGB2BGR)\n",
        "                    data = cv2.imencode('.jpg', img)[1].tobytes()\n",
        "                    clientsocket.send(data)\n",
        "                if record:\n",
        "                    if processImage:\n",
        "                        img = cv2.cvtColor(img, cv2.COLOR_RGB2BGR)\n",
        "                    newimage = cv2.resize(img,(procWidth,procHeight))\n",
        "                    out.write(newimage)\n",
        "except KeyboardInterrupt:\n",
        "    # Release the Video Device\n",
        "    vid.release()\n",
        "    # Message to be displayed after releasing the device\n",
        "    print (\"Released Video Resource\")\n",
        "    \n",
        "nowMicro = dc.getCurrentClock()\n",
        "print(\"# %s -- %0.4f seconds - FPS: %0.4f ---\" % (frameCnt, (nowMicro - initial_time).total_seconds(), frameCnt/(nowMicro - initial_time).total_seconds()))\n",
        "cap.release()\n",
        "if record:\n",
        "    out.release()\n",
        "if streamImage:\n",
        "    clientsocket.close()"
      ],
      "execution_count": 16,
      "outputs": [
        {
          "output_type": "error",
          "ename": "NameError",
          "evalue": "ignored",
          "traceback": [
            "\u001b[0;31m---------------------------------------------------------------------------\u001b[0m",
            "\u001b[0;31mKeyboardInterrupt\u001b[0m                         Traceback (most recent call last)",
            "\u001b[0;32m<ipython-input-16-9731eb36e510>\u001b[0m in \u001b[0;36m<module>\u001b[0;34m()\u001b[0m\n\u001b[1;32m     93\u001b[0m                     \u001b[0mimshow\u001b[0m\u001b[0;34m(\u001b[0m\u001b[0mimg\u001b[0m\u001b[0;34m)\u001b[0m\u001b[0;34m\u001b[0m\u001b[0m\n\u001b[0;32m---> 94\u001b[0;31m                     \u001b[0mshow\u001b[0m\u001b[0;34m(\u001b[0m\u001b[0;34m)\u001b[0m\u001b[0;34m\u001b[0m\u001b[0m\n\u001b[0m\u001b[1;32m     95\u001b[0m                     \u001b[0;32mif\u001b[0m \u001b[0mcount\u001b[0m \u001b[0;34m%\u001b[0m \u001b[0;36m3\u001b[0m\u001b[0;34m:\u001b[0m \u001b[0;31m#increase or decrease this to clear after more or less frames\u001b[0m\u001b[0;34m\u001b[0m\u001b[0m\n",
            "\u001b[0;32m/usr/local/lib/python3.6/dist-packages/matplotlib/pyplot.py\u001b[0m in \u001b[0;36mshow\u001b[0;34m(*args, **kw)\u001b[0m\n\u001b[1;32m    253\u001b[0m     \u001b[0;32mglobal\u001b[0m \u001b[0m_show\u001b[0m\u001b[0;34m\u001b[0m\u001b[0m\n\u001b[0;32m--> 254\u001b[0;31m     \u001b[0;32mreturn\u001b[0m \u001b[0m_show\u001b[0m\u001b[0;34m(\u001b[0m\u001b[0;34m*\u001b[0m\u001b[0margs\u001b[0m\u001b[0;34m,\u001b[0m \u001b[0;34m**\u001b[0m\u001b[0mkw\u001b[0m\u001b[0;34m)\u001b[0m\u001b[0;34m\u001b[0m\u001b[0m\n\u001b[0m\u001b[1;32m    255\u001b[0m \u001b[0;34m\u001b[0m\u001b[0m\n",
            "\u001b[0;32m/usr/local/lib/python3.6/dist-packages/ipykernel/pylab/backend_inline.py\u001b[0m in \u001b[0;36mshow\u001b[0;34m(close, block)\u001b[0m\n\u001b[1;32m     35\u001b[0m         \u001b[0;32mfor\u001b[0m \u001b[0mfigure_manager\u001b[0m \u001b[0;32min\u001b[0m \u001b[0mGcf\u001b[0m\u001b[0;34m.\u001b[0m\u001b[0mget_all_fig_managers\u001b[0m\u001b[0;34m(\u001b[0m\u001b[0;34m)\u001b[0m\u001b[0;34m:\u001b[0m\u001b[0;34m\u001b[0m\u001b[0m\n\u001b[0;32m---> 36\u001b[0;31m             \u001b[0mdisplay\u001b[0m\u001b[0;34m(\u001b[0m\u001b[0mfigure_manager\u001b[0m\u001b[0;34m.\u001b[0m\u001b[0mcanvas\u001b[0m\u001b[0;34m.\u001b[0m\u001b[0mfigure\u001b[0m\u001b[0;34m)\u001b[0m\u001b[0;34m\u001b[0m\u001b[0m\n\u001b[0m\u001b[1;32m     37\u001b[0m     \u001b[0;32mfinally\u001b[0m\u001b[0;34m:\u001b[0m\u001b[0;34m\u001b[0m\u001b[0m\n",
            "\u001b[0;32m/usr/local/lib/python3.6/dist-packages/IPython/core/display.py\u001b[0m in \u001b[0;36mdisplay\u001b[0;34m(*objs, **kwargs)\u001b[0m\n\u001b[1;32m    305\u001b[0m         \u001b[0;32melse\u001b[0m\u001b[0;34m:\u001b[0m\u001b[0;34m\u001b[0m\u001b[0m\n\u001b[0;32m--> 306\u001b[0;31m             \u001b[0mformat_dict\u001b[0m\u001b[0;34m,\u001b[0m \u001b[0mmd_dict\u001b[0m \u001b[0;34m=\u001b[0m \u001b[0mformat\u001b[0m\u001b[0;34m(\u001b[0m\u001b[0mobj\u001b[0m\u001b[0;34m,\u001b[0m \u001b[0minclude\u001b[0m\u001b[0;34m=\u001b[0m\u001b[0minclude\u001b[0m\u001b[0;34m,\u001b[0m \u001b[0mexclude\u001b[0m\u001b[0;34m=\u001b[0m\u001b[0mexclude\u001b[0m\u001b[0;34m)\u001b[0m\u001b[0;34m\u001b[0m\u001b[0m\n\u001b[0m\u001b[1;32m    307\u001b[0m             \u001b[0;32mif\u001b[0m \u001b[0;32mnot\u001b[0m \u001b[0mformat_dict\u001b[0m\u001b[0;34m:\u001b[0m\u001b[0;34m\u001b[0m\u001b[0m\n",
            "\u001b[0;32m/usr/local/lib/python3.6/dist-packages/IPython/core/formatters.py\u001b[0m in \u001b[0;36mformat\u001b[0;34m(self, obj, include, exclude)\u001b[0m\n\u001b[1;32m    172\u001b[0m             \u001b[0;32mtry\u001b[0m\u001b[0;34m:\u001b[0m\u001b[0;34m\u001b[0m\u001b[0m\n\u001b[0;32m--> 173\u001b[0;31m                 \u001b[0mdata\u001b[0m \u001b[0;34m=\u001b[0m \u001b[0mformatter\u001b[0m\u001b[0;34m(\u001b[0m\u001b[0mobj\u001b[0m\u001b[0;34m)\u001b[0m\u001b[0;34m\u001b[0m\u001b[0m\n\u001b[0m\u001b[1;32m    174\u001b[0m             \u001b[0;32mexcept\u001b[0m\u001b[0;34m:\u001b[0m\u001b[0;34m\u001b[0m\u001b[0m\n",
            "\u001b[0;32m<decorator-gen-9>\u001b[0m in \u001b[0;36m__call__\u001b[0;34m(self, obj)\u001b[0m\n",
            "\u001b[0;32m/usr/local/lib/python3.6/dist-packages/IPython/core/formatters.py\u001b[0m in \u001b[0;36mcatch_format_error\u001b[0;34m(method, self, *args, **kwargs)\u001b[0m\n\u001b[1;32m    216\u001b[0m     \u001b[0;32mtry\u001b[0m\u001b[0;34m:\u001b[0m\u001b[0;34m\u001b[0m\u001b[0m\n\u001b[0;32m--> 217\u001b[0;31m         \u001b[0mr\u001b[0m \u001b[0;34m=\u001b[0m \u001b[0mmethod\u001b[0m\u001b[0;34m(\u001b[0m\u001b[0mself\u001b[0m\u001b[0;34m,\u001b[0m \u001b[0;34m*\u001b[0m\u001b[0margs\u001b[0m\u001b[0;34m,\u001b[0m \u001b[0;34m**\u001b[0m\u001b[0mkwargs\u001b[0m\u001b[0;34m)\u001b[0m\u001b[0;34m\u001b[0m\u001b[0m\n\u001b[0m\u001b[1;32m    218\u001b[0m     \u001b[0;32mexcept\u001b[0m \u001b[0mNotImplementedError\u001b[0m\u001b[0;34m:\u001b[0m\u001b[0;34m\u001b[0m\u001b[0m\n",
            "\u001b[0;32m/usr/local/lib/python3.6/dist-packages/IPython/core/formatters.py\u001b[0m in \u001b[0;36m__call__\u001b[0;34m(self, obj)\u001b[0m\n\u001b[1;32m    333\u001b[0m             \u001b[0;32melse\u001b[0m\u001b[0;34m:\u001b[0m\u001b[0;34m\u001b[0m\u001b[0m\n\u001b[0;32m--> 334\u001b[0;31m                 \u001b[0;32mreturn\u001b[0m \u001b[0mprinter\u001b[0m\u001b[0;34m(\u001b[0m\u001b[0mobj\u001b[0m\u001b[0;34m)\u001b[0m\u001b[0;34m\u001b[0m\u001b[0m\n\u001b[0m\u001b[1;32m    335\u001b[0m             \u001b[0;31m# Finally look for special method names\u001b[0m\u001b[0;34m\u001b[0m\u001b[0;34m\u001b[0m\u001b[0m\n",
            "\u001b[0;32m/usr/local/lib/python3.6/dist-packages/IPython/core/pylabtools.py\u001b[0m in \u001b[0;36m<lambda>\u001b[0;34m(fig)\u001b[0m\n\u001b[1;32m    240\u001b[0m     \u001b[0;32mif\u001b[0m \u001b[0;34m'png'\u001b[0m \u001b[0;32min\u001b[0m \u001b[0mformats\u001b[0m\u001b[0;34m:\u001b[0m\u001b[0;34m\u001b[0m\u001b[0m\n\u001b[0;32m--> 241\u001b[0;31m         \u001b[0mpng_formatter\u001b[0m\u001b[0;34m.\u001b[0m\u001b[0mfor_type\u001b[0m\u001b[0;34m(\u001b[0m\u001b[0mFigure\u001b[0m\u001b[0;34m,\u001b[0m \u001b[0;32mlambda\u001b[0m \u001b[0mfig\u001b[0m\u001b[0;34m:\u001b[0m \u001b[0mprint_figure\u001b[0m\u001b[0;34m(\u001b[0m\u001b[0mfig\u001b[0m\u001b[0;34m,\u001b[0m \u001b[0;34m'png'\u001b[0m\u001b[0;34m,\u001b[0m \u001b[0;34m**\u001b[0m\u001b[0mkwargs\u001b[0m\u001b[0;34m)\u001b[0m\u001b[0;34m)\u001b[0m\u001b[0;34m\u001b[0m\u001b[0m\n\u001b[0m\u001b[1;32m    242\u001b[0m     \u001b[0;32mif\u001b[0m \u001b[0;34m'retina'\u001b[0m \u001b[0;32min\u001b[0m \u001b[0mformats\u001b[0m \u001b[0;32mor\u001b[0m \u001b[0;34m'png2x'\u001b[0m \u001b[0;32min\u001b[0m \u001b[0mformats\u001b[0m\u001b[0;34m:\u001b[0m\u001b[0;34m\u001b[0m\u001b[0m\n",
            "\u001b[0;32m/usr/local/lib/python3.6/dist-packages/IPython/core/pylabtools.py\u001b[0m in \u001b[0;36mprint_figure\u001b[0;34m(fig, fmt, bbox_inches, **kwargs)\u001b[0m\n\u001b[1;32m    124\u001b[0m     \u001b[0mbytes_io\u001b[0m \u001b[0;34m=\u001b[0m \u001b[0mBytesIO\u001b[0m\u001b[0;34m(\u001b[0m\u001b[0;34m)\u001b[0m\u001b[0;34m\u001b[0m\u001b[0m\n\u001b[0;32m--> 125\u001b[0;31m     \u001b[0mfig\u001b[0m\u001b[0;34m.\u001b[0m\u001b[0mcanvas\u001b[0m\u001b[0;34m.\u001b[0m\u001b[0mprint_figure\u001b[0m\u001b[0;34m(\u001b[0m\u001b[0mbytes_io\u001b[0m\u001b[0;34m,\u001b[0m \u001b[0;34m**\u001b[0m\u001b[0mkw\u001b[0m\u001b[0;34m)\u001b[0m\u001b[0;34m\u001b[0m\u001b[0m\n\u001b[0m\u001b[1;32m    126\u001b[0m     \u001b[0mdata\u001b[0m \u001b[0;34m=\u001b[0m \u001b[0mbytes_io\u001b[0m\u001b[0;34m.\u001b[0m\u001b[0mgetvalue\u001b[0m\u001b[0;34m(\u001b[0m\u001b[0;34m)\u001b[0m\u001b[0;34m\u001b[0m\u001b[0m\n",
            "\u001b[0;32m/usr/local/lib/python3.6/dist-packages/matplotlib/backend_bases.py\u001b[0m in \u001b[0;36mprint_figure\u001b[0;34m(self, filename, dpi, facecolor, edgecolor, orientation, format, **kwargs)\u001b[0m\n\u001b[1;32m   2266\u001b[0m                 \u001b[0mbbox_inches_restore\u001b[0m\u001b[0;34m=\u001b[0m\u001b[0m_bbox_inches_restore\u001b[0m\u001b[0;34m,\u001b[0m\u001b[0;34m\u001b[0m\u001b[0m\n\u001b[0;32m-> 2267\u001b[0;31m                 **kwargs)\n\u001b[0m\u001b[1;32m   2268\u001b[0m         \u001b[0;32mfinally\u001b[0m\u001b[0;34m:\u001b[0m\u001b[0;34m\u001b[0m\u001b[0m\n",
            "\u001b[0;32m/usr/local/lib/python3.6/dist-packages/matplotlib/backends/backend_agg.py\u001b[0m in \u001b[0;36mprint_png\u001b[0;34m(self, filename_or_obj, *args, **kwargs)\u001b[0m\n\u001b[1;32m    506\u001b[0m     \u001b[0;32mdef\u001b[0m \u001b[0mprint_png\u001b[0m\u001b[0;34m(\u001b[0m\u001b[0mself\u001b[0m\u001b[0;34m,\u001b[0m \u001b[0mfilename_or_obj\u001b[0m\u001b[0;34m,\u001b[0m \u001b[0;34m*\u001b[0m\u001b[0margs\u001b[0m\u001b[0;34m,\u001b[0m \u001b[0;34m**\u001b[0m\u001b[0mkwargs\u001b[0m\u001b[0;34m)\u001b[0m\u001b[0;34m:\u001b[0m\u001b[0;34m\u001b[0m\u001b[0m\n\u001b[0;32m--> 507\u001b[0;31m         \u001b[0mFigureCanvasAgg\u001b[0m\u001b[0;34m.\u001b[0m\u001b[0mdraw\u001b[0m\u001b[0;34m(\u001b[0m\u001b[0mself\u001b[0m\u001b[0;34m)\u001b[0m\u001b[0;34m\u001b[0m\u001b[0m\n\u001b[0m\u001b[1;32m    508\u001b[0m         \u001b[0mrenderer\u001b[0m \u001b[0;34m=\u001b[0m \u001b[0mself\u001b[0m\u001b[0;34m.\u001b[0m\u001b[0mget_renderer\u001b[0m\u001b[0;34m(\u001b[0m\u001b[0;34m)\u001b[0m\u001b[0;34m\u001b[0m\u001b[0m\n",
            "\u001b[0;32m/usr/local/lib/python3.6/dist-packages/matplotlib/backends/backend_agg.py\u001b[0m in \u001b[0;36mdraw\u001b[0;34m(self)\u001b[0m\n\u001b[1;32m    429\u001b[0m             \u001b[0;31m#     toolbar.set_cursor(cursors.WAIT)\u001b[0m\u001b[0;34m\u001b[0m\u001b[0;34m\u001b[0m\u001b[0m\n\u001b[0;32m--> 430\u001b[0;31m             \u001b[0mself\u001b[0m\u001b[0;34m.\u001b[0m\u001b[0mfigure\u001b[0m\u001b[0;34m.\u001b[0m\u001b[0mdraw\u001b[0m\u001b[0;34m(\u001b[0m\u001b[0mself\u001b[0m\u001b[0;34m.\u001b[0m\u001b[0mrenderer\u001b[0m\u001b[0;34m)\u001b[0m\u001b[0;34m\u001b[0m\u001b[0m\n\u001b[0m\u001b[1;32m    431\u001b[0m         \u001b[0;32mfinally\u001b[0m\u001b[0;34m:\u001b[0m\u001b[0;34m\u001b[0m\u001b[0m\n",
            "\u001b[0;32m/usr/local/lib/python3.6/dist-packages/matplotlib/artist.py\u001b[0m in \u001b[0;36mdraw_wrapper\u001b[0;34m(artist, renderer, *args, **kwargs)\u001b[0m\n\u001b[1;32m     54\u001b[0m \u001b[0;34m\u001b[0m\u001b[0m\n\u001b[0;32m---> 55\u001b[0;31m             \u001b[0;32mreturn\u001b[0m \u001b[0mdraw\u001b[0m\u001b[0;34m(\u001b[0m\u001b[0martist\u001b[0m\u001b[0;34m,\u001b[0m \u001b[0mrenderer\u001b[0m\u001b[0;34m,\u001b[0m \u001b[0;34m*\u001b[0m\u001b[0margs\u001b[0m\u001b[0;34m,\u001b[0m \u001b[0;34m**\u001b[0m\u001b[0mkwargs\u001b[0m\u001b[0;34m)\u001b[0m\u001b[0;34m\u001b[0m\u001b[0m\n\u001b[0m\u001b[1;32m     56\u001b[0m         \u001b[0;32mfinally\u001b[0m\u001b[0;34m:\u001b[0m\u001b[0;34m\u001b[0m\u001b[0m\n",
            "\u001b[0;32m/usr/local/lib/python3.6/dist-packages/matplotlib/figure.py\u001b[0m in \u001b[0;36mdraw\u001b[0;34m(self, renderer)\u001b[0m\n\u001b[1;32m   1298\u001b[0m             mimage._draw_list_compositing_images(\n\u001b[0;32m-> 1299\u001b[0;31m                 renderer, self, artists, self.suppressComposite)\n\u001b[0m\u001b[1;32m   1300\u001b[0m \u001b[0;34m\u001b[0m\u001b[0m\n",
            "\u001b[0;32m/usr/local/lib/python3.6/dist-packages/matplotlib/image.py\u001b[0m in \u001b[0;36m_draw_list_compositing_images\u001b[0;34m(renderer, parent, artists, suppress_composite)\u001b[0m\n\u001b[1;32m    137\u001b[0m         \u001b[0;32mfor\u001b[0m \u001b[0ma\u001b[0m \u001b[0;32min\u001b[0m \u001b[0martists\u001b[0m\u001b[0;34m:\u001b[0m\u001b[0;34m\u001b[0m\u001b[0m\n\u001b[0;32m--> 138\u001b[0;31m             \u001b[0ma\u001b[0m\u001b[0;34m.\u001b[0m\u001b[0mdraw\u001b[0m\u001b[0;34m(\u001b[0m\u001b[0mrenderer\u001b[0m\u001b[0;34m)\u001b[0m\u001b[0;34m\u001b[0m\u001b[0m\n\u001b[0m\u001b[1;32m    139\u001b[0m     \u001b[0;32melse\u001b[0m\u001b[0;34m:\u001b[0m\u001b[0;34m\u001b[0m\u001b[0m\n",
            "\u001b[0;32m/usr/local/lib/python3.6/dist-packages/matplotlib/artist.py\u001b[0m in \u001b[0;36mdraw_wrapper\u001b[0;34m(artist, renderer, *args, **kwargs)\u001b[0m\n\u001b[1;32m     54\u001b[0m \u001b[0;34m\u001b[0m\u001b[0m\n\u001b[0;32m---> 55\u001b[0;31m             \u001b[0;32mreturn\u001b[0m \u001b[0mdraw\u001b[0m\u001b[0;34m(\u001b[0m\u001b[0martist\u001b[0m\u001b[0;34m,\u001b[0m \u001b[0mrenderer\u001b[0m\u001b[0;34m,\u001b[0m \u001b[0;34m*\u001b[0m\u001b[0margs\u001b[0m\u001b[0;34m,\u001b[0m \u001b[0;34m**\u001b[0m\u001b[0mkwargs\u001b[0m\u001b[0;34m)\u001b[0m\u001b[0;34m\u001b[0m\u001b[0m\n\u001b[0m\u001b[1;32m     56\u001b[0m         \u001b[0;32mfinally\u001b[0m\u001b[0;34m:\u001b[0m\u001b[0;34m\u001b[0m\u001b[0m\n",
            "\u001b[0;32m/usr/local/lib/python3.6/dist-packages/matplotlib/axes/_base.py\u001b[0m in \u001b[0;36mdraw\u001b[0;34m(self, renderer, inframe)\u001b[0m\n\u001b[1;32m   2436\u001b[0m \u001b[0;34m\u001b[0m\u001b[0m\n\u001b[0;32m-> 2437\u001b[0;31m         \u001b[0mmimage\u001b[0m\u001b[0;34m.\u001b[0m\u001b[0m_draw_list_compositing_images\u001b[0m\u001b[0;34m(\u001b[0m\u001b[0mrenderer\u001b[0m\u001b[0;34m,\u001b[0m \u001b[0mself\u001b[0m\u001b[0;34m,\u001b[0m \u001b[0martists\u001b[0m\u001b[0;34m)\u001b[0m\u001b[0;34m\u001b[0m\u001b[0m\n\u001b[0m\u001b[1;32m   2438\u001b[0m \u001b[0;34m\u001b[0m\u001b[0m\n",
            "\u001b[0;32m/usr/local/lib/python3.6/dist-packages/matplotlib/image.py\u001b[0m in \u001b[0;36m_draw_list_compositing_images\u001b[0;34m(renderer, parent, artists, suppress_composite)\u001b[0m\n\u001b[1;32m    137\u001b[0m         \u001b[0;32mfor\u001b[0m \u001b[0ma\u001b[0m \u001b[0;32min\u001b[0m \u001b[0martists\u001b[0m\u001b[0;34m:\u001b[0m\u001b[0;34m\u001b[0m\u001b[0m\n\u001b[0;32m--> 138\u001b[0;31m             \u001b[0ma\u001b[0m\u001b[0;34m.\u001b[0m\u001b[0mdraw\u001b[0m\u001b[0;34m(\u001b[0m\u001b[0mrenderer\u001b[0m\u001b[0;34m)\u001b[0m\u001b[0;34m\u001b[0m\u001b[0m\n\u001b[0m\u001b[1;32m    139\u001b[0m     \u001b[0;32melse\u001b[0m\u001b[0;34m:\u001b[0m\u001b[0;34m\u001b[0m\u001b[0m\n",
            "\u001b[0;32m/usr/local/lib/python3.6/dist-packages/matplotlib/artist.py\u001b[0m in \u001b[0;36mdraw_wrapper\u001b[0;34m(artist, renderer, *args, **kwargs)\u001b[0m\n\u001b[1;32m     54\u001b[0m \u001b[0;34m\u001b[0m\u001b[0m\n\u001b[0;32m---> 55\u001b[0;31m             \u001b[0;32mreturn\u001b[0m \u001b[0mdraw\u001b[0m\u001b[0;34m(\u001b[0m\u001b[0martist\u001b[0m\u001b[0;34m,\u001b[0m \u001b[0mrenderer\u001b[0m\u001b[0;34m,\u001b[0m \u001b[0;34m*\u001b[0m\u001b[0margs\u001b[0m\u001b[0;34m,\u001b[0m \u001b[0;34m**\u001b[0m\u001b[0mkwargs\u001b[0m\u001b[0;34m)\u001b[0m\u001b[0;34m\u001b[0m\u001b[0m\n\u001b[0m\u001b[1;32m     56\u001b[0m         \u001b[0;32mfinally\u001b[0m\u001b[0;34m:\u001b[0m\u001b[0;34m\u001b[0m\u001b[0m\n",
            "\u001b[0;32m/usr/local/lib/python3.6/dist-packages/matplotlib/axis.py\u001b[0m in \u001b[0;36mdraw\u001b[0;34m(self, renderer, *args, **kwargs)\u001b[0m\n\u001b[1;32m   1134\u001b[0m         ticklabelBoxes, ticklabelBoxes2 = self._get_tick_bboxes(ticks_to_draw,\n\u001b[0;32m-> 1135\u001b[0;31m                                                                 renderer)\n\u001b[0m\u001b[1;32m   1136\u001b[0m \u001b[0;34m\u001b[0m\u001b[0m\n",
            "\u001b[0;32m/usr/local/lib/python3.6/dist-packages/matplotlib/axis.py\u001b[0m in \u001b[0;36m_get_tick_bboxes\u001b[0;34m(self, ticks, renderer)\u001b[0m\n\u001b[1;32m   1074\u001b[0m             \u001b[0;32mif\u001b[0m \u001b[0mtick\u001b[0m\u001b[0;34m.\u001b[0m\u001b[0mlabel1On\u001b[0m \u001b[0;32mand\u001b[0m \u001b[0mtick\u001b[0m\u001b[0;34m.\u001b[0m\u001b[0mlabel1\u001b[0m\u001b[0;34m.\u001b[0m\u001b[0mget_visible\u001b[0m\u001b[0;34m(\u001b[0m\u001b[0;34m)\u001b[0m\u001b[0;34m:\u001b[0m\u001b[0;34m\u001b[0m\u001b[0m\n\u001b[0;32m-> 1075\u001b[0;31m                 \u001b[0mextent\u001b[0m \u001b[0;34m=\u001b[0m \u001b[0mtick\u001b[0m\u001b[0;34m.\u001b[0m\u001b[0mlabel1\u001b[0m\u001b[0;34m.\u001b[0m\u001b[0mget_window_extent\u001b[0m\u001b[0;34m(\u001b[0m\u001b[0mrenderer\u001b[0m\u001b[0;34m)\u001b[0m\u001b[0;34m\u001b[0m\u001b[0m\n\u001b[0m\u001b[1;32m   1076\u001b[0m                 \u001b[0mticklabelBoxes\u001b[0m\u001b[0;34m.\u001b[0m\u001b[0mappend\u001b[0m\u001b[0;34m(\u001b[0m\u001b[0mextent\u001b[0m\u001b[0;34m)\u001b[0m\u001b[0;34m\u001b[0m\u001b[0m\n",
            "\u001b[0;32m/usr/local/lib/python3.6/dist-packages/matplotlib/text.py\u001b[0m in \u001b[0;36mget_window_extent\u001b[0;34m(self, renderer, dpi)\u001b[0m\n\u001b[1;32m    932\u001b[0m \u001b[0;34m\u001b[0m\u001b[0m\n\u001b[0;32m--> 933\u001b[0;31m         \u001b[0mbbox\u001b[0m\u001b[0;34m,\u001b[0m \u001b[0minfo\u001b[0m\u001b[0;34m,\u001b[0m \u001b[0mdescent\u001b[0m \u001b[0;34m=\u001b[0m \u001b[0mself\u001b[0m\u001b[0;34m.\u001b[0m\u001b[0m_get_layout\u001b[0m\u001b[0;34m(\u001b[0m\u001b[0mself\u001b[0m\u001b[0;34m.\u001b[0m\u001b[0m_renderer\u001b[0m\u001b[0;34m)\u001b[0m\u001b[0;34m\u001b[0m\u001b[0m\n\u001b[0m\u001b[1;32m    934\u001b[0m         \u001b[0mx\u001b[0m\u001b[0;34m,\u001b[0m \u001b[0my\u001b[0m \u001b[0;34m=\u001b[0m \u001b[0mself\u001b[0m\u001b[0;34m.\u001b[0m\u001b[0mget_unitless_position\u001b[0m\u001b[0;34m(\u001b[0m\u001b[0;34m)\u001b[0m\u001b[0;34m\u001b[0m\u001b[0m\n",
            "\u001b[0;32m/usr/local/lib/python3.6/dist-packages/matplotlib/text.py\u001b[0m in \u001b[0;36m_get_layout\u001b[0;34m(self, renderer)\u001b[0m\n\u001b[1;32m    424\u001b[0m \u001b[0;34m\u001b[0m\u001b[0m\n\u001b[0;32m--> 425\u001b[0;31m         \u001b[0mbbox\u001b[0m \u001b[0;34m=\u001b[0m \u001b[0mBbox\u001b[0m\u001b[0;34m.\u001b[0m\u001b[0mfrom_bounds\u001b[0m\u001b[0;34m(\u001b[0m\u001b[0mxmin\u001b[0m\u001b[0;34m,\u001b[0m \u001b[0mymin\u001b[0m\u001b[0;34m,\u001b[0m \u001b[0mwidth\u001b[0m\u001b[0;34m,\u001b[0m \u001b[0mheight\u001b[0m\u001b[0;34m)\u001b[0m\u001b[0;34m\u001b[0m\u001b[0m\n\u001b[0m\u001b[1;32m    426\u001b[0m \u001b[0;34m\u001b[0m\u001b[0m\n",
            "\u001b[0;32m/usr/local/lib/python3.6/dist-packages/matplotlib/transforms.py\u001b[0m in \u001b[0;36mfrom_bounds\u001b[0;34m(x0, y0, width, height)\u001b[0m\n\u001b[1;32m    803\u001b[0m         \"\"\"\n\u001b[0;32m--> 804\u001b[0;31m         \u001b[0;32mreturn\u001b[0m \u001b[0mBbox\u001b[0m\u001b[0;34m.\u001b[0m\u001b[0mfrom_extents\u001b[0m\u001b[0;34m(\u001b[0m\u001b[0mx0\u001b[0m\u001b[0;34m,\u001b[0m \u001b[0my0\u001b[0m\u001b[0;34m,\u001b[0m \u001b[0mx0\u001b[0m \u001b[0;34m+\u001b[0m \u001b[0mwidth\u001b[0m\u001b[0;34m,\u001b[0m \u001b[0my0\u001b[0m \u001b[0;34m+\u001b[0m \u001b[0mheight\u001b[0m\u001b[0;34m)\u001b[0m\u001b[0;34m\u001b[0m\u001b[0m\n\u001b[0m\u001b[1;32m    805\u001b[0m \u001b[0;34m\u001b[0m\u001b[0m\n",
            "\u001b[0;32m/usr/local/lib/python3.6/dist-packages/matplotlib/transforms.py\u001b[0m in \u001b[0;36mfrom_extents\u001b[0;34m(*args)\u001b[0m\n\u001b[1;32m    813\u001b[0m         \"\"\"\n\u001b[0;32m--> 814\u001b[0;31m         \u001b[0mpoints\u001b[0m \u001b[0;34m=\u001b[0m \u001b[0mnp\u001b[0m\u001b[0;34m.\u001b[0m\u001b[0marray\u001b[0m\u001b[0;34m(\u001b[0m\u001b[0margs\u001b[0m\u001b[0;34m,\u001b[0m \u001b[0mdtype\u001b[0m\u001b[0;34m=\u001b[0m\u001b[0mfloat\u001b[0m\u001b[0;34m)\u001b[0m\u001b[0;34m.\u001b[0m\u001b[0mreshape\u001b[0m\u001b[0;34m(\u001b[0m\u001b[0;36m2\u001b[0m\u001b[0;34m,\u001b[0m \u001b[0;36m2\u001b[0m\u001b[0;34m)\u001b[0m\u001b[0;34m\u001b[0m\u001b[0m\n\u001b[0m\u001b[1;32m    815\u001b[0m         \u001b[0;32mreturn\u001b[0m \u001b[0mBbox\u001b[0m\u001b[0;34m(\u001b[0m\u001b[0mpoints\u001b[0m\u001b[0;34m)\u001b[0m\u001b[0;34m\u001b[0m\u001b[0m\n",
            "\u001b[0;31mKeyboardInterrupt\u001b[0m: ",
            "\nDuring handling of the above exception, another exception occurred:\n",
            "\u001b[0;31mNameError\u001b[0m                                 Traceback (most recent call last)",
            "\u001b[0;32m<ipython-input-16-9731eb36e510>\u001b[0m in \u001b[0;36m<module>\u001b[0;34m()\u001b[0m\n\u001b[1;32m    108\u001b[0m \u001b[0;32mexcept\u001b[0m \u001b[0mKeyboardInterrupt\u001b[0m\u001b[0;34m:\u001b[0m\u001b[0;34m\u001b[0m\u001b[0m\n\u001b[1;32m    109\u001b[0m     \u001b[0;31m# Release the Video Device\u001b[0m\u001b[0;34m\u001b[0m\u001b[0;34m\u001b[0m\u001b[0m\n\u001b[0;32m--> 110\u001b[0;31m     \u001b[0mvid\u001b[0m\u001b[0;34m.\u001b[0m\u001b[0mrelease\u001b[0m\u001b[0;34m(\u001b[0m\u001b[0;34m)\u001b[0m\u001b[0;34m\u001b[0m\u001b[0m\n\u001b[0m\u001b[1;32m    111\u001b[0m     \u001b[0;31m# Message to be displayed after releasing the device\u001b[0m\u001b[0;34m\u001b[0m\u001b[0;34m\u001b[0m\u001b[0m\n\u001b[1;32m    112\u001b[0m     \u001b[0mprint\u001b[0m \u001b[0;34m(\u001b[0m\u001b[0;34m\"Released Video Resource\"\u001b[0m\u001b[0;34m)\u001b[0m\u001b[0;34m\u001b[0m\u001b[0m\n",
            "\u001b[0;31mNameError\u001b[0m: name 'vid' is not defined"
          ]
        }
      ]
    },
    {
      "metadata": {
        "id": "K5jv-3RXqeh5",
        "colab_type": "code",
        "colab": {
          "autoexec": {
            "startup": false,
            "wait_interval": 0
          },
          "output_extras": [
            {
              "item_id": 2
            }
          ],
          "base_uri": "https://localhost:8080/",
          "height": 416
        },
        "outputId": "2d686a81-eac0-43e5-c5b6-5138304279dc",
        "executionInfo": {
          "status": "ok",
          "timestamp": 1518408788696,
          "user_tz": 300,
          "elapsed": 771,
          "user": {
            "displayName": "Phillip Pirrip",
            "photoUrl": "https://lh3.googleusercontent.com/a/default-user=s128",
            "userId": "116127546435445851967"
          }
        }
      },
      "cell_type": "code",
      "source": [
        "!ls -la\n",
        "!pwd"
      ],
      "execution_count": 15,
      "outputs": [
        {
          "output_type": "stream",
          "text": [
            "total 88\r\n",
            "drwxr-xr-x 1 root root  4096 Feb 12 04:12 .\r\n",
            "drwxr-xr-x 1 root root  4096 Feb 12 02:38 ..\r\n",
            "drwx------ 4 root root  4096 Feb 12 02:39 .cache\r\n",
            "drwxrwxr-x 2 root root  4096 Feb  7 20:30 checkpoints\r\n",
            "drwxr-xr-x 3 root root  4096 Feb 12 02:39 .config\r\n",
            "drwxr-xr-x 1 root root  4096 Feb 12 02:38 datalab\r\n",
            "-rw-rw-r-- 1 root root  2269 Feb  7 20:30 demo_common.py\r\n",
            "-rw-r--r-- 1 root root 11187 Feb  7 20:30 demo_main.py\r\n",
            "drwxr-xr-x 4 root root  4096 Feb 12 02:39 .forever\r\n",
            "drwxr-xr-x 5 root root  4096 Feb 12 02:39 .ipython\r\n",
            "drwxr-xr-x 2 root root  4096 Feb 12 02:44 .keras\r\n",
            "drwx------ 3 root root  4096 Feb 12 02:39 .local\r\n",
            "drwxr-xr-x 4 root root  4096 Feb  9 19:33 models\r\n",
            "drwx------ 3 root root  4096 Feb 12 02:44 .nv\r\n",
            "drwxr-xr-x 2 root root  4096 Feb 12 04:09 __pycache__\r\n",
            "-rw------- 1 root root  1024 Feb 12 02:39 .rnd\r\n",
            "drwxrwxr-x 6 root root  4096 Feb  9 19:34 sfm\r\n",
            "drwxrwxr-x 6 root root  4096 Feb  7 21:39 SfMLearner\r\n",
            "drwxrwxr-x 6 root root  4096 Feb  7 20:30 ssd\r\n",
            "-rw-rw-r-- 1 root root  2842 Feb  9 19:33 together.py\r\n",
            "-rw-r--r-- 1 root root     0 Feb 12 04:12 video-test.mp4\n",
            "/content\n"
          ],
          "name": "stdout"
        }
      ]
    },
    {
      "metadata": {
        "id": "OpEETR2DaKzb",
        "colab_type": "code",
        "colab": {
          "autoexec": {
            "startup": false,
            "wait_interval": 0
          }
        }
      },
      "cell_type": "code",
      "source": [
        ""
      ],
      "execution_count": 0,
      "outputs": []
    }
  ]
}