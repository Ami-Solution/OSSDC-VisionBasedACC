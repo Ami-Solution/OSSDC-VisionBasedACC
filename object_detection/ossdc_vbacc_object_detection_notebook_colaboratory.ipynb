{
  "nbformat": 4,
  "nbformat_minor": 0,
  "metadata": {
    "colab": {
      "name": "ossdc-vbacc-object-detection-notebook-colaboratory.ipynb",
      "version": "0.3.2",
      "views": {},
      "default_view": {},
      "provenance": [
        {
          "file_id": "10hu0d9Ind2TwZXxDoeh7Yc4Qi1WZ2I24",
          "timestamp": 1516545640031
        }
      ],
      "collapsed_sections": []
    },
    "kernelspec": {
      "display_name": "Python 3",
      "language": "python",
      "name": "python3"
    },
    "accelerator": "GPU"
  },
  "cells": [
    {
      "metadata": {
        "id": "duCIfXJORnhg",
        "colab_type": "code",
        "colab": {
          "autoexec": {
            "startup": false,
            "wait_interval": 0
          }
        }
      },
      "source": [
        ""
      ],
      "cell_type": "code",
      "execution_count": 0,
      "outputs": []
    },
    {
      "metadata": {
        "id": "rEBnky83Robi",
        "colab_type": "text"
      },
      "source": [
        "Use this IPython notebook on [Google Colaboratory](https://colab.research.google.com) to reproduce the video here:\n",
        "\n",
        "> SSD Tensorflow based car detection and tracking demo for OSSDC.org VisionBasedACC PS3/PS4 simulator\n",
        "\n",
        "> https://youtu.be/dqnjHqwP68Y\n",
        "\n",
        "Code here:\n",
        "\n",
        "> https://github.com/OSSDC/OSSDC-VisionBasedACC\n",
        "\n",
        "Make sure you enable GPU in Colaboratory using menu path Runtime -> Change runtime type\n",
        "\n",
        "Join our efforts in [Open Source Self Driving Car Initiative](http://OSSDC.org)!\n",
        "\n"
      ],
      "cell_type": "markdown"
    },
    {
      "metadata": {
        "id": "HPmOjGVBquUW",
        "colab_type": "code",
        "colab": {
          "autoexec": {
            "startup": false,
            "wait_interval": 0
          }
        }
      },
      "source": [
        "!apt-get -qq install -y libsm6 libxext6 && pip install -q -U opencv-python && pip install -q -U pafy && pip install -q -U imtools"
      ],
      "cell_type": "code",
      "execution_count": 0,
      "outputs": []
    },
    {
      "metadata": {
        "id": "T5Qdi64Hqegg",
        "colab_type": "code",
        "colab": {
          "autoexec": {
            "startup": false,
            "wait_interval": 0
          }
        }
      },
      "source": [
        "import os\n",
        "import math\n",
        "#import random\n",
        "\n",
        "import numpy as np\n",
        "import tensorflow as tf\n",
        "import cv2\n",
        "import pafy\n",
        "\n",
        "#from imutils.video import WebcamVideoStream\n",
        "\n",
        "slim = tf.contrib.slim\n",
        "\n",
        "%pylab inline \n",
        "from IPython.display import clear_output"
      ],
      "cell_type": "code",
      "execution_count": 0,
      "outputs": []
    },
    {
      "metadata": {
        "id": "8-SSYlKPqegy",
        "colab_type": "code",
        "colab": {
          "autoexec": {
            "startup": false,
            "wait_interval": 0
          }
        }
      },
      "source": [
        "#%matplotlib inline\n",
        "#import matplotlib.pyplot as plt\n",
        "#import matplotlib.image as mpimg\n",
        "#from skimage import io\n",
        "import time\n",
        "import subprocess\n",
        "\n",
        "precision = 10\n",
        "from datetime import datetime\n",
        "\n",
        "def getCurrentClock():\n",
        "    #return time.clock()\n",
        "    return datetime.now()\n"
      ],
      "cell_type": "code",
      "execution_count": 0,
      "outputs": []
    },
    {
      "metadata": {
        "id": "0jv-Tg9qqeg6",
        "colab_type": "code",
        "colab": {
          "autoexec": {
            "startup": false,
            "wait_interval": 0
          }
        }
      },
      "source": [
        "import sys\n",
        "!rm master.zip\n",
        "!wget https://github.com/OSSDC/OSSDC-VisionBasedACC/archive/master.zip\n",
        "!unzip master.zip\n",
        "\n",
        "sys.path.append('.')\n",
        "import os\n",
        "#os.listdir(path='.')"
      ],
      "cell_type": "code",
      "execution_count": 0,
      "outputs": []
    },
    {
      "metadata": {
        "id": "5pFtiW9R1SKR",
        "colab_type": "code",
        "colab": {
          "autoexec": {
            "startup": false,
            "wait_interval": 0
          }
        }
      },
      "source": [
        "!cp -r OSSDC-VisionBasedACC-master/object_detection/* ."
      ],
      "cell_type": "code",
      "execution_count": 0,
      "outputs": []
    },
    {
      "metadata": {
        "id": "QbYzlXWO1wsp",
        "colab_type": "code",
        "colab": {
          "autoexec": {
            "startup": false,
            "wait_interval": 0
          }
        }
      },
      "source": [
        "#os.listdir(path='.')"
      ],
      "cell_type": "code",
      "execution_count": 0,
      "outputs": []
    },
    {
      "metadata": {
        "id": "Ih8BbcF93rgp",
        "colab_type": "code",
        "colab": {
          "autoexec": {
            "startup": false,
            "wait_interval": 0
          }
        }
      },
      "source": [
        "!cd checkpoints; rm *\n",
        "!cd checkpoints; wget https://github.com/OSSDC/OSSDC-VisionBasedACC/raw/master/object_detection/checkpoints/ssd_300_vgg.ckpt.data-00000-of-00001"
      ],
      "cell_type": "code",
      "execution_count": 0,
      "outputs": []
    },
    {
      "metadata": {
        "id": "a6aMQGWh31TW",
        "colab_type": "code",
        "colab": {
          "autoexec": {
            "startup": false,
            "wait_interval": 0
          }
        }
      },
      "source": [
        "!cd checkpoints; wget https://github.com/OSSDC/OSSDC-VisionBasedACC/raw/master/object_detection/checkpoints/ssd_300_vgg.ckpt.index"
      ],
      "cell_type": "code",
      "execution_count": 0,
      "outputs": []
    },
    {
      "metadata": {
        "id": "ZLZP55g-z8Zs",
        "colab_type": "code",
        "colab": {
          "autoexec": {
            "startup": false,
            "wait_interval": 0
          }
        }
      },
      "source": [
        "!ls -ls checkpoints\n",
        "\n",
        "from nets import ssd_vgg_300, ssd_common, np_methods"
      ],
      "cell_type": "code",
      "execution_count": 0,
      "outputs": []
    },
    {
      "metadata": {
        "id": "iNUIDHLeqehC",
        "colab_type": "code",
        "colab": {
          "autoexec": {
            "startup": false,
            "wait_interval": 0
          }
        }
      },
      "source": [
        "from preprocessing import ssd_vgg_preprocessing\n",
        "import visualization"
      ],
      "cell_type": "code",
      "execution_count": 0,
      "outputs": []
    },
    {
      "metadata": {
        "id": "52biFDKfqehI",
        "colab_type": "code",
        "colab": {
          "autoexec": {
            "startup": false,
            "wait_interval": 0
          }
        }
      },
      "source": [
        "# TensorFlow session: grow memory when needed. TF, DO NOT USE ALL MY GPU MEMORY!!!\n",
        "gpu_options = tf.GPUOptions(allow_growth=True)\n",
        "config = tf.ConfigProto(log_device_placement=False, gpu_options=gpu_options)\n",
        "isess = tf.InteractiveSession(config=config)"
      ],
      "cell_type": "code",
      "execution_count": 0,
      "outputs": []
    },
    {
      "metadata": {
        "id": "cQhOmDAnqehN",
        "colab_type": "text"
      },
      "source": [
        "## SSD 300 Model\n",
        "\n",
        "The SSD 300 network takes 300x300 image inputs. In order to feed any image, the latter is resize to this input shape (i.e.`Resize.WARP_RESIZE`). Note that even though it may change the ratio width / height, the SSD model performs well on resized images (and it is the default behaviour in the original Caffe implementation).\n",
        "\n",
        "SSD anchors correspond to the default bounding boxes encoded in the network. The SSD net output provides offset on the coordinates and dimensions of these anchors."
      ],
      "cell_type": "markdown"
    },
    {
      "metadata": {
        "id": "EeiwCpxbqehO",
        "colab_type": "code",
        "colab": {
          "autoexec": {
            "startup": false,
            "wait_interval": 0
          },
          "output_extras": [
            {},
            {}
          ],
          "base_uri": "https://localhost:8080/",
          "height": 52
        },
        "outputId": "d8d7f481-035b-46b6-d6f1-58f58c67db9b",
        "executionInfo": {
          "status": "ok",
          "timestamp": 1516543142954,
          "user_tz": 300,
          "elapsed": 1409,
          "user": {
            "displayName": "YahooReg RegYahoo",
            "photoUrl": "https://lh3.googleusercontent.com/a/default-user=s128",
            "userId": "106851073227919274858"
          }
        }
      },
      "source": [
        "# Input placeholder.\n",
        "net_shape = (300, 300)\n",
        "data_format = 'NCHW'\n",
        "img_input = tf.placeholder(tf.uint8, shape=(None, None, 3))\n",
        "# Evaluation pre-processing: resize to SSD net shape.\n",
        "image_pre, labels_pre, bboxes_pre, bbox_img = ssd_vgg_preprocessing.preprocess_for_eval(\n",
        "    img_input, None, None, net_shape, data_format, resize=ssd_vgg_preprocessing.Resize.WARP_RESIZE)\n",
        "image_4d = tf.expand_dims(image_pre, 0)\n",
        "\n",
        "# Define the SSD model.\n",
        "reuse = True if 'ssd_net' in locals() else None\n",
        "ssd_net = ssd_vgg_300.SSDNet()\n",
        "with slim.arg_scope(ssd_net.arg_scope(data_format=data_format)):\n",
        "    predictions, localisations, _, _ = ssd_net.net(image_4d, is_training=False, reuse=reuse)\n",
        "\n",
        "# Restore SSD model.\n",
        "ckpt_filename = './checkpoints/ssd_300_vgg.ckpt'\n",
        "# ckpt_filename = './checkpoints/VGG_VOC0712_SSD_300x300_ft_iter_120000.ckpt'\n",
        "isess.run(tf.global_variables_initializer())\n",
        "saver = tf.train.Saver()\n",
        "saver.restore(isess, ckpt_filename)\n",
        "\n",
        "# SSD default anchor boxes.\n",
        "ssd_anchors = ssd_net.anchors(net_shape)"
      ],
      "cell_type": "code",
      "execution_count": 0,
      "outputs": [
        {
          "output_type": "stream",
          "text": [
            "INFO:tensorflow:Restoring parameters from ./checkpoints/ssd_300_vgg.ckpt\n"
          ],
          "name": "stdout"
        },
        {
          "output_type": "stream",
          "text": [
            "INFO:tensorflow:Restoring parameters from ./checkpoints/ssd_300_vgg.ckpt\n"
          ],
          "name": "stderr"
        }
      ]
    },
    {
      "metadata": {
        "id": "x7x9kKOtqehX",
        "colab_type": "text"
      },
      "source": [
        "## Post-processing pipeline\n",
        "\n",
        "The SSD outputs need to be post-processed to provide proper detections. Namely, we follow these common steps:\n",
        "\n",
        "* Select boxes above a classification threshold;\n",
        "* Clip boxes to the image shape;\n",
        "* Apply the Non-Maximum-Selection algorithm: fuse together boxes whose Jaccard score > threshold;\n",
        "* If necessary, resize bounding boxes to original image shape."
      ],
      "cell_type": "markdown"
    },
    {
      "metadata": {
        "id": "YNOsY-m5qeha",
        "colab_type": "code",
        "colab": {
          "autoexec": {
            "startup": false,
            "wait_interval": 0
          }
        }
      },
      "source": [
        "# Main image processing routine.\n",
        "def process_image(img, select_threshold=0.5, nms_threshold=.45, net_shape=(300, 300)):\n",
        "    # Run SSD network.\n",
        "    rimg, rpredictions, rlocalisations, rbbox_img = isess.run([image_4d, predictions, localisations, bbox_img],\n",
        "                                                              feed_dict={img_input: img})\n",
        "    \n",
        "    # Get classes and bboxes from the net outputs.\n",
        "    rclasses, rscores, rbboxes = np_methods.ssd_bboxes_select(\n",
        "            rpredictions, rlocalisations, ssd_anchors,\n",
        "            select_threshold=select_threshold, img_shape=net_shape, num_classes=21, decode=True)\n",
        "    \n",
        "    rbboxes = np_methods.bboxes_clip(rbbox_img, rbboxes)\n",
        "    rclasses, rscores, rbboxes = np_methods.bboxes_sort(rclasses, rscores, rbboxes, top_k=400)\n",
        "    rclasses, rscores, rbboxes = np_methods.bboxes_nms(rclasses, rscores, rbboxes, nms_threshold=nms_threshold)\n",
        "    # Resize bboxes to original image shape. Note: useless for Resize.WARP!\n",
        "    rbboxes = np_methods.bboxes_resize(rbbox_img, rbboxes)\n",
        "    return rclasses, rscores, rbboxes"
      ],
      "cell_type": "code",
      "execution_count": 0,
      "outputs": []
    },
    {
      "metadata": {
        "id": "XuljOiesQl-O",
        "colab_type": "code",
        "colab": {
          "autoexec": {
            "startup": false,
            "wait_interval": 0
          }
        }
      },
      "source": [
        "!rm video-test.mp4"
      ],
      "cell_type": "code",
      "execution_count": 0,
      "outputs": []
    },
    {
      "metadata": {
        "id": "fmporqDF7Kda",
        "colab_type": "code",
        "colab": {
          "autoexec": {
            "startup": false,
            "wait_interval": 0
          }
        }
      },
      "source": [
        "import time\n",
        "\n",
        "start_time = time.time()\n",
        "\n",
        "#A smooth drive in The Crew on PS4 - OSSDC Simulator ACC Train 30fps\n",
        "url = 'https://www.youtube.com/watch?v=uuQlMCMT71I'\n",
        "\n",
        "#Bad weather sample\n",
        "#url = \"https://www.youtube.com/watch?v=q3q26xrigX4\"\n",
        "\n",
        "#url= ... #put your Youtube video URL here and uncomment the line\n",
        "def getVideoURL(url):\n",
        "    videoUrl = url\n",
        "    video = pafy.new(url)\n",
        "    streams = video.streams\n",
        "    videoUrlList={}\n",
        "    for s in streams:\n",
        "        videoUrlList[s.resolution] = s.url\n",
        "        #print(s.resolution, s.extension, s.get_filesize(), s.url)\n",
        "\n",
        "    if videoUrlList.get(\"1280x720\",None) is not None:\n",
        "        videoUrl = videoUrlList.get(\"1280x720\",None)\n",
        "        print(\"1280x720\")\n",
        "\n",
        "    if videoUrlList.get(\"1920x1080\",None) is not None:\n",
        "        videoUrl = videoUrlList.get(\"1920x1080\",None)\n",
        "        print(\"1920x1080\")\n",
        "    return videoUrl\n",
        "\n",
        "origVideoUrl = url\n",
        "\n",
        "if \"youtube.\" in url: \n",
        "    videoUrl = getVideoURL(url)\n",
        "    !wget -q -O video-test.mp4 '$videoUrl'\n",
        "else:\n",
        "    videoUrl = url\n",
        "\n",
        "print(\"videoUrl =\",videoUrl)\n",
        "videoUrl='video-test.mp4'"
      ],
      "cell_type": "code",
      "execution_count": 0,
      "outputs": []
    },
    {
      "metadata": {
        "id": "ZTl8WQS3qehf",
        "colab_type": "code",
        "colab": {
          "autoexec": {
            "startup": false,
            "wait_interval": 0
          },
          "output_extras": [
            {}
          ],
          "base_uri": "https://localhost:8080/",
          "height": 690
        },
        "outputId": "a812ddbb-740b-47a0-81e2-c3cef453e579",
        "executionInfo": {
          "status": "error",
          "timestamp": 1516543672991,
          "user_tz": 300,
          "elapsed": 62,
          "user": {
            "displayName": "YahooReg RegYahoo",
            "photoUrl": "https://lh3.googleusercontent.com/a/default-user=s128",
            "userId": "106851073227919274858"
          }
        }
      },
      "source": [
        "webcam=False\n",
        "#webcam=True\n",
        "\n",
        "if webcam:\n",
        "    cap = WebcamVideoStream(videoUrl).start()\n",
        "else:\n",
        "    cap = cv2.VideoCapture(videoUrl)\n",
        "\n",
        "count=50\n",
        "skip=0\n",
        "SKIP_EVERY=150 #pick a frame every 5 seconds\n",
        "\n",
        "count=1000 #look only at first 1000 frames\n",
        "skip=0\n",
        "SKIP_EVERY=0\n",
        "\n",
        "every=SKIP_EVERY\n",
        "initial_time = getCurrentClock()\n",
        "flag=True\n",
        "\n",
        "frameCnt=0\n",
        "prevFrameCnt=0\n",
        "prevTime=getCurrentClock()\n",
        "\n",
        "showImage=False\n",
        "showImage=True\n",
        "\n",
        "processImage=False\n",
        "processImage=True\n",
        "\n",
        "zoomImage=0\n",
        "rclasses = []\n",
        "rscores = []\n",
        "rbboxes = []\n",
        "\n",
        "record = False\n",
        "#record = True #uncomment line to get a video detections marked in place\n",
        "\n",
        "procWidth = 1280 #640   # processing width (x resolution) of frame\n",
        "procHeight = 720   # processing width (x resolution) of frame\n",
        "\n",
        "out = None\n",
        "if record:\n",
        "    fourcc = cv2.VideoWriter_fourcc(*'MPEG')\n",
        "    timestr = time.strftime(\"%Y%m%d-%H%M%S\")\n",
        "    out = cv2.VideoWriter('output-'+timestr+'.mp4',fourcc, 30.0, (int(procWidth),int(procHeight)))\n",
        "frame = cap.read()\n",
        "print(\"Start procesing!\",frame)\n",
        "try:\n",
        "    while True:\n",
        "        if webcam or cap.grab():\n",
        "            if webcam:\n",
        "                frame = cap.read()\n",
        "            else:\n",
        "                flag, frame = cap.retrieve()    \n",
        "            if not flag:\n",
        "                continue\n",
        "            else:\n",
        "                #print(\"frameCnt:\",frameCnt)\n",
        "                frameCnt=frameCnt+1\n",
        "                nowMicro = getCurrentClock()\n",
        "                delta = (nowMicro-prevTime).total_seconds()\n",
        "                #print(\"%f \" % (delta))\n",
        "                if delta>=1.0:\n",
        "                    #print(\"FPS = %0.4f\" % ((frameCnt-prevFrameCnt)/delta))\n",
        "                    prevTime = nowMicro\n",
        "                    prevFrameCnt=frameCnt\n",
        "\n",
        "                if skip>0:\n",
        "                    skip=skip-1\n",
        "                    continue\n",
        "\n",
        "                if every>0:\n",
        "                    every=every-1\n",
        "                    continue\n",
        "                every=SKIP_EVERY\n",
        "\n",
        "                count=count-1\n",
        "                if count==0:\n",
        "                    break\n",
        "\n",
        "                img = frame\n",
        "                if processImage:    \n",
        "                    if zoomImage>0:\n",
        "                        #crop center of image, crop width is output_side_length\n",
        "                        output_side_length = int(procWidth/zoomImage)\n",
        "                        height, width, depth = frame.shape\n",
        "                        #print (height, width, depth)\n",
        "                        height_offset = int((height - output_side_length) / 2)\n",
        "                        width_offset = int((width - output_side_length) / 2)\n",
        "                        #print (height, width, depth, height_offset,width_offset,output_side_length)\n",
        "                        img = frame[height_offset:height_offset + output_side_length,width_offset:width_offset + output_side_length]\n",
        "\n",
        "                    img = cv2.cvtColor(img, cv2.COLOR_BGR2RGB)\n",
        "                    start_time = getCurrentClock()\n",
        "                    rclasses, rscores, rbboxes =  process_image(img)\n",
        "                    if len(rclasses)>0:\n",
        "                        nowMicro = getCurrentClock()\n",
        "                        print(\"# %s - %s - %0.4f seconds ---\" % (frameCnt,rclasses.astype('|S3'), (nowMicro - start_time).total_seconds()))\n",
        "                        start_time = nowMicro\n",
        "                    \n",
        "                    #img = cv2.cvtColor(img, cv2.COLOR_RGB2BGR)\n",
        "                    visualization.bboxes_draw_on_img(img, rclasses, rscores, rbboxes, visualization.colors_plasma)\n",
        "                if showImage:\n",
        "                    imshow(img)\n",
        "                    show()\n",
        "                    # Display the frame until new frame is available\n",
        "                    clear_output(wait=True)\n",
        "                if record:\n",
        "                    if processImage:\n",
        "                        img = cv2.cvtColor(img, cv2.COLOR_RGB2BGR)\n",
        "                    newimage = cv2.resize(img,(procWidth,procHeight))\n",
        "                    out.write(newimage)\n",
        "except KeyboardInterrupt:\n",
        "    # Release the Video Device\n",
        "    vid.release()\n",
        "    # Message to be displayed after releasing the device\n",
        "    print (\"Released Video Resource\")\n",
        "    \n",
        "nowMicro = getCurrentClock()\n",
        "print(\"# %s -- %0.4f seconds - FPS: %0.4f ---\" % (frameCnt, (nowMicro - initial_time).total_seconds(), frameCnt/(nowMicro - initial_time).total_seconds()))\n",
        "cap.release()\n",
        "if record:\n",
        "    out.release()"
      ],
      "cell_type": "code",
      "execution_count": 0,
      "outputs": [
        {
          "output_type": "error",
          "ename": "NameError",
          "evalue": "ignored",
          "traceback": [
            "\u001b[0;31m---------------------------------------------------------------------------\u001b[0m",
            "\u001b[0;31mKeyboardInterrupt\u001b[0m                         Traceback (most recent call last)",
            "\u001b[0;32m<ipython-input-18-5bae2b8e879d>\u001b[0m in \u001b[0;36m<module>\u001b[0;34m()\u001b[0m\n\u001b[1;32m     95\u001b[0m                     \u001b[0mstart_time\u001b[0m \u001b[0;34m=\u001b[0m \u001b[0mgetCurrentClock\u001b[0m\u001b[0;34m(\u001b[0m\u001b[0;34m)\u001b[0m\u001b[0;34m\u001b[0m\u001b[0m\n\u001b[0;32m---> 96\u001b[0;31m                     \u001b[0mrclasses\u001b[0m\u001b[0;34m,\u001b[0m \u001b[0mrscores\u001b[0m\u001b[0;34m,\u001b[0m \u001b[0mrbboxes\u001b[0m \u001b[0;34m=\u001b[0m  \u001b[0mprocess_image\u001b[0m\u001b[0;34m(\u001b[0m\u001b[0mimg\u001b[0m\u001b[0;34m)\u001b[0m\u001b[0;34m\u001b[0m\u001b[0m\n\u001b[0m\u001b[1;32m     97\u001b[0m                     \u001b[0;32mif\u001b[0m \u001b[0mlen\u001b[0m\u001b[0;34m(\u001b[0m\u001b[0mrclasses\u001b[0m\u001b[0;34m)\u001b[0m\u001b[0;34m>\u001b[0m\u001b[0;36m0\u001b[0m\u001b[0;34m:\u001b[0m\u001b[0;34m\u001b[0m\u001b[0m\n",
            "\u001b[0;32m<ipython-input-14-c97933766a23>\u001b[0m in \u001b[0;36mprocess_image\u001b[0;34m(img, select_threshold, nms_threshold, net_shape)\u001b[0m\n\u001b[1;32m      8\u001b[0m             \u001b[0mrpredictions\u001b[0m\u001b[0;34m,\u001b[0m \u001b[0mrlocalisations\u001b[0m\u001b[0;34m,\u001b[0m \u001b[0mssd_anchors\u001b[0m\u001b[0;34m,\u001b[0m\u001b[0;34m\u001b[0m\u001b[0m\n\u001b[0;32m----> 9\u001b[0;31m             select_threshold=select_threshold, img_shape=net_shape, num_classes=21, decode=True)\n\u001b[0m\u001b[1;32m     10\u001b[0m \u001b[0;34m\u001b[0m\u001b[0m\n",
            "\u001b[0;32m/content/nets/np_methods.py\u001b[0m in \u001b[0;36mssd_bboxes_select\u001b[0;34m(predictions_net, localizations_net, anchors_net, select_threshold, img_shape, num_classes, decode)\u001b[0m\n\u001b[1;32m    119\u001b[0m             \u001b[0mpredictions_net\u001b[0m\u001b[0;34m[\u001b[0m\u001b[0mi\u001b[0m\u001b[0;34m]\u001b[0m\u001b[0;34m,\u001b[0m \u001b[0mlocalizations_net\u001b[0m\u001b[0;34m[\u001b[0m\u001b[0mi\u001b[0m\u001b[0;34m]\u001b[0m\u001b[0;34m,\u001b[0m \u001b[0manchors_net\u001b[0m\u001b[0;34m[\u001b[0m\u001b[0mi\u001b[0m\u001b[0;34m]\u001b[0m\u001b[0;34m,\u001b[0m\u001b[0;34m\u001b[0m\u001b[0m\n\u001b[0;32m--> 120\u001b[0;31m             select_threshold, img_shape, num_classes, decode)\n\u001b[0m\u001b[1;32m    121\u001b[0m         \u001b[0ml_classes\u001b[0m\u001b[0;34m.\u001b[0m\u001b[0mappend\u001b[0m\u001b[0;34m(\u001b[0m\u001b[0mclasses\u001b[0m\u001b[0;34m)\u001b[0m\u001b[0;34m\u001b[0m\u001b[0m\n",
            "\u001b[0;32m/content/nets/np_methods.py\u001b[0m in \u001b[0;36mssd_bboxes_select_layer\u001b[0;34m(predictions_layer, localizations_layer, anchors_layer, select_threshold, img_shape, num_classes, decode)\u001b[0m\n\u001b[1;32m     91\u001b[0m         \u001b[0msub_predictions\u001b[0m \u001b[0;34m=\u001b[0m \u001b[0mpredictions_layer\u001b[0m\u001b[0;34m[\u001b[0m\u001b[0;34m:\u001b[0m\u001b[0;34m,\u001b[0m \u001b[0;34m:\u001b[0m\u001b[0;34m,\u001b[0m \u001b[0;36m1\u001b[0m\u001b[0;34m:\u001b[0m\u001b[0;34m]\u001b[0m\u001b[0;34m\u001b[0m\u001b[0m\n\u001b[0;32m---> 92\u001b[0;31m         \u001b[0midxes\u001b[0m \u001b[0;34m=\u001b[0m \u001b[0mnp\u001b[0m\u001b[0;34m.\u001b[0m\u001b[0mwhere\u001b[0m\u001b[0;34m(\u001b[0m\u001b[0msub_predictions\u001b[0m \u001b[0;34m>\u001b[0m \u001b[0mselect_threshold\u001b[0m\u001b[0;34m)\u001b[0m\u001b[0;34m\u001b[0m\u001b[0m\n\u001b[0m\u001b[1;32m     93\u001b[0m         \u001b[0mclasses\u001b[0m \u001b[0;34m=\u001b[0m \u001b[0midxes\u001b[0m\u001b[0;34m[\u001b[0m\u001b[0;34m-\u001b[0m\u001b[0;36m1\u001b[0m\u001b[0;34m]\u001b[0m\u001b[0;34m+\u001b[0m\u001b[0;36m1\u001b[0m\u001b[0;34m\u001b[0m\u001b[0m\n",
            "\u001b[0;31mKeyboardInterrupt\u001b[0m: ",
            "\nDuring handling of the above exception, another exception occurred:\n",
            "\u001b[0;31mNameError\u001b[0m                                 Traceback (most recent call last)",
            "\u001b[0;32m<ipython-input-18-5bae2b8e879d>\u001b[0m in \u001b[0;36m<module>\u001b[0;34m()\u001b[0m\n\u001b[1;32m    114\u001b[0m \u001b[0;32mexcept\u001b[0m \u001b[0mKeyboardInterrupt\u001b[0m\u001b[0;34m:\u001b[0m\u001b[0;34m\u001b[0m\u001b[0m\n\u001b[1;32m    115\u001b[0m     \u001b[0;31m# Release the Video Device\u001b[0m\u001b[0;34m\u001b[0m\u001b[0;34m\u001b[0m\u001b[0m\n\u001b[0;32m--> 116\u001b[0;31m     \u001b[0mvid\u001b[0m\u001b[0;34m.\u001b[0m\u001b[0mrelease\u001b[0m\u001b[0;34m(\u001b[0m\u001b[0;34m)\u001b[0m\u001b[0;34m\u001b[0m\u001b[0m\n\u001b[0m\u001b[1;32m    117\u001b[0m     \u001b[0;31m# Message to be displayed after releasing the device\u001b[0m\u001b[0;34m\u001b[0m\u001b[0;34m\u001b[0m\u001b[0m\n\u001b[1;32m    118\u001b[0m     \u001b[0mprint\u001b[0m \u001b[0;34m(\u001b[0m\u001b[0;34m\"Released Video Resource\"\u001b[0m\u001b[0;34m)\u001b[0m\u001b[0;34m\u001b[0m\u001b[0m\n",
            "\u001b[0;31mNameError\u001b[0m: name 'vid' is not defined"
          ]
        }
      ]
    },
    {
      "metadata": {
        "id": "-4bgyMdRvP8L",
        "colab_type": "text"
      },
      "source": [
        ""
      ],
      "cell_type": "markdown"
    },
    {
      "metadata": {
        "id": "K5jv-3RXqeh5",
        "colab_type": "code",
        "colab": {
          "autoexec": {
            "startup": false,
            "wait_interval": 0
          },
          "output_extras": [
            {}
          ],
          "base_uri": "https://localhost:8080/",
          "height": 955
        },
        "outputId": "b494bdd0-8a62-4126-ae69-5fc206545054",
        "executionInfo": {
          "status": "ok",
          "timestamp": 1516473669229,
          "user_tz": 300,
          "elapsed": 972,
          "user": {
            "displayName": "YahooReg RegYahoo",
            "photoUrl": "https://lh3.googleusercontent.com/a/default-user=s128",
            "userId": "106851073227919274858"
          }
        }
      },
      "source": [
        "!ls -la\n",
        "!pwd"
      ],
      "cell_type": "code",
      "execution_count": 0,
      "outputs": [
        {
          "output_type": "stream",
          "text": [
            "total 291728\r\n",
            "drwxr-xr-x 1 root root      4096 Jan 20 18:40 .\r\n",
            "drwxr-xr-x 1 root root      4096 Jan 20 12:44 ..\r\n",
            "drwx------ 4 root root      4096 Jan 20 12:46 .cache\r\n",
            "drwxr-xr-x 2 root root      4096 Jan 20 12:49 checkpoints\r\n",
            "-rw-r--r-- 1 root root      6701 Jan 20 12:48 common.py\r\n",
            "drwxr-xr-x 3 root root      4096 Jan 20 12:46 .config\r\n",
            "-rw-r--r-- 1 root root      2053 Jan 20 12:48 dac-viewer.py\r\n",
            "drwxr-xr-x 2 root root      4096 Jan 20 12:48 data\r\n",
            "drwxr-xr-x 1 root root      4096 Jan 20 13:14 datalab\r\n",
            "drwxr-xr-x 4 root root      4096 Jan 20 12:45 .forever\r\n",
            "-rw-r--r-- 1 root root       821 Jan 20 12:48 FPS.py\r\n",
            "drwxr-xr-x 5 root root      4096 Jan 20 12:46 .ipython\r\n",
            "drwxr-xr-x 2 root root      4096 Jan 20 12:47 .keras\r\n",
            "-rw-r--r-- 1 root root      4628 Jan 20 12:48 lk_track-crop.py\r\n",
            "drwx------ 3 root root      4096 Jan 20 12:45 .local\r\n",
            "-rw-r--r-- 1 root root   1491285 Jan 20 18:31 master.zip\r\n",
            "-rw-r--r-- 1 root root   1491285 Jan 20 12:48 master.zip.1\r\n",
            "drwxr-xr-x 2 root root      4096 Jan 20 12:48 models\r\n",
            "drwxr-xr-x 3 root root      4096 Jan 20 12:48 nets\r\n",
            "drwx------ 3 root root      4096 Jan 20 12:49 .nv\r\n",
            "-rw-r--r-- 1 root root   1449604 Jan 20 12:48 object_detection_tutorial.ipynb\r\n",
            "-rwxr-xr-x 1 root root     26348 Jan 20 12:48 ossdc-vbacc-object-detection_dac.py\r\n",
            "-rwxr-xr-x 1 root root     21485 Jan 20 12:48 ossdc-vbacc-object-detection-notebook.ipynb\r\n",
            "-rwxr-xr-x 1 root root     24326 Jan 20 12:48 ossdc-vbacc-object-detection.py\r\n",
            "drwxr-xr-x 3 root root      4096 Dec  7 03:51 OSSDC-VisionBasedACC-master\r\n",
            "-rw-r--r-- 1 root root       257 Jan 20 13:04 output-20180120-130038.mp4\r\n",
            "-rw-r--r-- 1 root root       257 Jan 20 13:06 output-20180120-130451.mp4\r\n",
            "-rw-r--r-- 1 root root  25623394 Jan 20 14:07 output-20180120-130624.mp4\r\n",
            "-rw-r--r-- 1 root root  39504128 Jan 20 14:09 output-20180120-140753.mp4\r\n",
            "-rw-r--r-- 1 root root  23554526 Jan 20 14:13 output-20180120-140922.mp4\r\n",
            "-rw-r--r-- 1 root root  23554526 Jan 20 18:33 output-20180120-183242.mp4\r\n",
            "-rw-r--r-- 1 root root  30076012 Jan 20 18:40 output-20180120-183330.mp4\r\n",
            "-rw-r--r-- 1 root root   5505068 Jan 20 18:40 output-20180120-184052.mp4\r\n",
            "drwxr-xr-x 3 root root      4096 Jan 20 12:48 preprocessing\r\n",
            "drwxr-xr-x 3 root root      4096 Jan 20 12:48 protos\r\n",
            "-rw-r--r-- 1 root root      1627 Jan 20 15:04 ps.txt\r\n",
            "drwxr-xr-x 2 root root      4096 Jan 20 12:49 __pycache__\r\n",
            "-rw------- 1 root root      1024 Jan 20 12:45 .rnd\r\n",
            "-rwxr-xr-x 1 root root       219 Jan 20 12:48 run_demo_ssd-tracking-720p.sh\r\n",
            "drwxr-xr-x 2 root root      4096 Jan 20 12:48 ssd_mobilenet_v1_coco_11_06_2017\r\n",
            "drwxr-xr-x 2 root root      4096 Jan 20 15:00 templates\r\n",
            "-rw-r--r-- 1 root root       211 Jan 20 13:59 test_dataframe.txt\r\n",
            "-rw-r--r-- 1 root root      6054 Jan 20 12:48 test_mobilenet.py\r\n",
            "drwxr-xr-x 3 root root      4096 Jan 20 12:48 tf_extended\r\n",
            "-rw-r--r-- 1 root root      3779 Jan 20 12:48 tst_scene_render.py\r\n",
            "drwxr-xr-x 3 root root      4096 Jan 20 12:48 utils\r\n",
            "-rw-r--r-- 1 root root      7065 Jan 20 12:48 video.py\r\n",
            "-rw-r--r-- 1 root root 146184934 Feb  4  2017 video-test.mp4\r\n",
            "-rw-r--r-- 1 root root      4330 Jan 20 12:48 video_tools.py\r\n",
            "-rwxr-xr-x 1 root root      4916 Jan 20 12:48 visualization.py\r\n",
            "-rw-r--r-- 1 root root      1221 Jan 20 12:48 webcamvideostream.py\r\n",
            "-rw-r--r-- 1 root root       351 Jan 20 15:00 .wget-hsts\n",
            "/content\n"
          ],
          "name": "stdout"
        }
      ]
    },
    {
      "metadata": {
        "id": "8aNWxCNRXxko",
        "colab_type": "code",
        "colab": {
          "autoexec": {
            "startup": false,
            "wait_interval": 0
          }
        }
      },
      "source": [
        ""
      ],
      "cell_type": "code",
      "execution_count": 0,
      "outputs": []
    }
  ]
}